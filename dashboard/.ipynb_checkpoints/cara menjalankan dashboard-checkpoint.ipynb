{
 "cells": [
  {
   "cell_type": "markdown",
   "id": "c16ebbb1",
   "metadata": {},
   "source": [
    "# Bicycle Rent Dashboard ✨"
   ]
  },
  {
   "cell_type": "markdown",
   "id": "7bfbf69d",
   "metadata": {},
   "source": [
    "## Setup Environment"
   ]
  },
  {
   "cell_type": "markdown",
   "id": "3f92d1a7",
   "metadata": {},
   "source": [
    "\n",
    "- pip install numpy pandas scipy matplotlib seaborn jupyter streamlit babel"
   ]
  },
  {
   "cell_type": "markdown",
   "id": "0a3e86a9",
   "metadata": {},
   "source": [
    "## Run Streamlit App"
   ]
  },
  {
   "cell_type": "markdown",
   "id": "8d704e46",
   "metadata": {},
   "source": [
    "#### streamlit run dashboardPA.py"
   ]
  }
 ],
 "metadata": {
  "kernelspec": {
   "display_name": "Python 3 (ipykernel)",
   "language": "python",
   "name": "python3"
  },
  "language_info": {
   "codemirror_mode": {
    "name": "ipython",
    "version": 3
   },
   "file_extension": ".py",
   "mimetype": "text/x-python",
   "name": "python",
   "nbconvert_exporter": "python",
   "pygments_lexer": "ipython3",
   "version": "3.10.9"
  }
 },
 "nbformat": 4,
 "nbformat_minor": 5
}
